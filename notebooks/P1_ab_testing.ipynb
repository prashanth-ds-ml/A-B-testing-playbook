{
 "cells": [
  {
   "cell_type": "code",
   "execution_count": 1,
   "id": "1f6ab658",
   "metadata": {},
   "outputs": [
    {
     "name": "stdout",
     "output_type": "stream",
     "text": [
      "Downloading from https://www.kaggle.com/api/v1/datasets/download/shubhamdamai/ab-testing-analysis-facebook-vs-adword?dataset_version_number=1...\n"
     ]
    },
    {
     "name": "stderr",
     "output_type": "stream",
     "text": [
      "100%|██████████| 29.7k/29.7k [00:00<00:00, 191kB/s]"
     ]
    },
    {
     "name": "stdout",
     "output_type": "stream",
     "text": [
      "Extracting files...\n",
      "Downloaded to: /home/enma/.cache/kagglehub/datasets/shubhamdamai/ab-testing-analysis-facebook-vs-adword/versions/1\n",
      "Placed files in: /home/enma/Projects/Data_Analysis_Playbook/data\n"
     ]
    },
    {
     "name": "stderr",
     "output_type": "stream",
     "text": [
      "\n"
     ]
    }
   ],
   "source": [
    "import os, shutil, pathlib\n",
    "import kagglehub\n",
    "\n",
    "# 1) Download (cached under ~/.cache/kagglehub)\n",
    "src_path = kagglehub.dataset_download(\"shubhamdamai/ab-testing-analysis-facebook-vs-adword\")\n",
    "print(\"Downloaded to:\", src_path)\n",
    "\n",
    "# 2) Ensure target dir exists\n",
    "target_dir = pathlib.Path(\"/home/enma/Projects/Data_Analysis_Playbook/data\")\n",
    "target_dir.mkdir(parents=True, exist_ok=True)\n",
    "\n",
    "# 3) Copy all files from the downloaded folder to target (overwrite if exists)\n",
    "for p in pathlib.Path(src_path).glob(\"*\"):\n",
    "    dest = target_dir / p.name\n",
    "    if p.is_dir():\n",
    "        if dest.exists():\n",
    "            shutil.rmtree(dest)\n",
    "        shutil.copytree(p, dest)\n",
    "    else:\n",
    "        shutil.copy2(p, dest)\n",
    "\n",
    "print(\"Placed files in:\", target_dir)\n"
   ]
  },
  {
   "cell_type": "code",
   "execution_count": 1,
   "id": "5df451ca",
   "metadata": {},
   "outputs": [],
   "source": [
    "import pandas as pd\n",
    "import matplotlib.pyplot as plt\n",
    "import seaborn as sns\n",
    "import numpy as np\n",
    "import scipy.stats as st\n",
    "from sklearn.linear_model import LinearRegression\n",
    "from sklearn.metrics import r2_score, mean_squared_error\n",
    "from statsmodels.tsa.seasonal import seasonal_decompose\n",
    "from statsmodels.tsa.stattools import coint\n",
    "import warnings\n",
    "warnings.filterwarnings('ignore')"
   ]
  },
  {
   "cell_type": "code",
   "execution_count": 2,
   "id": "837e70ce",
   "metadata": {},
   "outputs": [],
   "source": [
    "df = pd.read_csv(\"/home/enma/Projects/Data_Analysis_Playbook/data/A_B_testing_dataset.csv\")"
   ]
  },
  {
   "cell_type": "code",
   "execution_count": 3,
   "id": "d2339a49",
   "metadata": {},
   "outputs": [
    {
     "data": {
      "application/vnd.microsoft.datawrangler.viewer.v0+json": {
       "columns": [
        {
         "name": "index",
         "rawType": "int64",
         "type": "integer"
        },
        {
         "name": "date_of_campaign",
         "rawType": "object",
         "type": "string"
        },
        {
         "name": "facebook_ad_campaign",
         "rawType": "object",
         "type": "string"
        },
        {
         "name": "facebook_ad_views",
         "rawType": "int64",
         "type": "integer"
        },
        {
         "name": "facebook_ad_clicks",
         "rawType": "int64",
         "type": "integer"
        },
        {
         "name": "facebook_ad_conversions",
         "rawType": "int64",
         "type": "integer"
        },
        {
         "name": "facebook_cost_per_ad",
         "rawType": "int64",
         "type": "integer"
        },
        {
         "name": "facebook_ctr",
         "rawType": "float64",
         "type": "float"
        },
        {
         "name": "facebook_conversion_rate",
         "rawType": "float64",
         "type": "float"
        },
        {
         "name": "facebook_cost_per_click",
         "rawType": "float64",
         "type": "float"
        },
        {
         "name": "adword_ad_campaign",
         "rawType": "object",
         "type": "string"
        },
        {
         "name": "adword_ad_views",
         "rawType": "int64",
         "type": "integer"
        },
        {
         "name": "adword_ad_clicks",
         "rawType": "int64",
         "type": "integer"
        },
        {
         "name": "adword_ad_conversions",
         "rawType": "int64",
         "type": "integer"
        },
        {
         "name": "adword_cost_per_ad",
         "rawType": "int64",
         "type": "integer"
        },
        {
         "name": "adword_ctr",
         "rawType": "float64",
         "type": "float"
        },
        {
         "name": "adword_conversion_rate",
         "rawType": "float64",
         "type": "float"
        },
        {
         "name": "adword_cost_per_click",
         "rawType": "float64",
         "type": "float"
        }
       ],
       "ref": "9aa40375-d369-4e53-ade5-dca4a9a2db3d",
       "rows": [
        [
         "0",
         "2021-12-22",
         "FACEBOOK AD",
         "3172",
         "62",
         "14",
         "141",
         "1.95",
         "22.58",
         "2.27",
         "ADWORD AD",
         "5754",
         "64",
         "9",
         "177",
         "1.11",
         "14.06",
         "2.77"
        ],
        [
         "1",
         "2021-12-24",
         "FACEBOOK AD",
         "3211",
         "38",
         "9",
         "186",
         "1.18",
         "23.68",
         "4.89",
         "ADWORD AD",
         "4954",
         "73",
         "6",
         "54",
         "1.47",
         "8.22",
         "0.74"
        ],
        [
         "2",
         "2021-12-25",
         "FACEBOOK AD",
         "1936",
         "53",
         "15",
         "66",
         "2.74",
         "28.3",
         "1.25",
         "ADWORD AD",
         "4702",
         "38",
         "9",
         "187",
         "0.81",
         "23.68",
         "4.92"
        ],
        [
         "3",
         "2021-12-25",
         "FACEBOOK AD",
         "1194",
         "45",
         "9",
         "71",
         "3.77",
         "20.0",
         "1.58",
         "ADWORD AD",
         "3718",
         "58",
         "3",
         "161",
         "1.56",
         "5.17",
         "2.78"
        ],
        [
         "4",
         "2021-12-26",
         "FACEBOOK AD",
         "2479",
         "44",
         "12",
         "174",
         "1.77",
         "27.27",
         "3.95",
         "ADWORD AD",
         "5562",
         "63",
         "4",
         "162",
         "1.13",
         "6.35",
         "2.57"
        ]
       ],
       "shape": {
        "columns": 17,
        "rows": 5
       }
      },
      "text/html": [
       "<div>\n",
       "<style scoped>\n",
       "    .dataframe tbody tr th:only-of-type {\n",
       "        vertical-align: middle;\n",
       "    }\n",
       "\n",
       "    .dataframe tbody tr th {\n",
       "        vertical-align: top;\n",
       "    }\n",
       "\n",
       "    .dataframe thead th {\n",
       "        text-align: right;\n",
       "    }\n",
       "</style>\n",
       "<table border=\"1\" class=\"dataframe\">\n",
       "  <thead>\n",
       "    <tr style=\"text-align: right;\">\n",
       "      <th></th>\n",
       "      <th>date_of_campaign</th>\n",
       "      <th>facebook_ad_campaign</th>\n",
       "      <th>facebook_ad_views</th>\n",
       "      <th>facebook_ad_clicks</th>\n",
       "      <th>facebook_ad_conversions</th>\n",
       "      <th>facebook_cost_per_ad</th>\n",
       "      <th>facebook_ctr</th>\n",
       "      <th>facebook_conversion_rate</th>\n",
       "      <th>facebook_cost_per_click</th>\n",
       "      <th>adword_ad_campaign</th>\n",
       "      <th>adword_ad_views</th>\n",
       "      <th>adword_ad_clicks</th>\n",
       "      <th>adword_ad_conversions</th>\n",
       "      <th>adword_cost_per_ad</th>\n",
       "      <th>adword_ctr</th>\n",
       "      <th>adword_conversion_rate</th>\n",
       "      <th>adword_cost_per_click</th>\n",
       "    </tr>\n",
       "  </thead>\n",
       "  <tbody>\n",
       "    <tr>\n",
       "      <th>0</th>\n",
       "      <td>2021-12-22</td>\n",
       "      <td>FACEBOOK AD</td>\n",
       "      <td>3172</td>\n",
       "      <td>62</td>\n",
       "      <td>14</td>\n",
       "      <td>141</td>\n",
       "      <td>1.95</td>\n",
       "      <td>22.58</td>\n",
       "      <td>2.27</td>\n",
       "      <td>ADWORD AD</td>\n",
       "      <td>5754</td>\n",
       "      <td>64</td>\n",
       "      <td>9</td>\n",
       "      <td>177</td>\n",
       "      <td>1.11</td>\n",
       "      <td>14.06</td>\n",
       "      <td>2.77</td>\n",
       "    </tr>\n",
       "    <tr>\n",
       "      <th>1</th>\n",
       "      <td>2021-12-24</td>\n",
       "      <td>FACEBOOK AD</td>\n",
       "      <td>3211</td>\n",
       "      <td>38</td>\n",
       "      <td>9</td>\n",
       "      <td>186</td>\n",
       "      <td>1.18</td>\n",
       "      <td>23.68</td>\n",
       "      <td>4.89</td>\n",
       "      <td>ADWORD AD</td>\n",
       "      <td>4954</td>\n",
       "      <td>73</td>\n",
       "      <td>6</td>\n",
       "      <td>54</td>\n",
       "      <td>1.47</td>\n",
       "      <td>8.22</td>\n",
       "      <td>0.74</td>\n",
       "    </tr>\n",
       "    <tr>\n",
       "      <th>2</th>\n",
       "      <td>2021-12-25</td>\n",
       "      <td>FACEBOOK AD</td>\n",
       "      <td>1936</td>\n",
       "      <td>53</td>\n",
       "      <td>15</td>\n",
       "      <td>66</td>\n",
       "      <td>2.74</td>\n",
       "      <td>28.30</td>\n",
       "      <td>1.25</td>\n",
       "      <td>ADWORD AD</td>\n",
       "      <td>4702</td>\n",
       "      <td>38</td>\n",
       "      <td>9</td>\n",
       "      <td>187</td>\n",
       "      <td>0.81</td>\n",
       "      <td>23.68</td>\n",
       "      <td>4.92</td>\n",
       "    </tr>\n",
       "    <tr>\n",
       "      <th>3</th>\n",
       "      <td>2021-12-25</td>\n",
       "      <td>FACEBOOK AD</td>\n",
       "      <td>1194</td>\n",
       "      <td>45</td>\n",
       "      <td>9</td>\n",
       "      <td>71</td>\n",
       "      <td>3.77</td>\n",
       "      <td>20.00</td>\n",
       "      <td>1.58</td>\n",
       "      <td>ADWORD AD</td>\n",
       "      <td>3718</td>\n",
       "      <td>58</td>\n",
       "      <td>3</td>\n",
       "      <td>161</td>\n",
       "      <td>1.56</td>\n",
       "      <td>5.17</td>\n",
       "      <td>2.78</td>\n",
       "    </tr>\n",
       "    <tr>\n",
       "      <th>4</th>\n",
       "      <td>2021-12-26</td>\n",
       "      <td>FACEBOOK AD</td>\n",
       "      <td>2479</td>\n",
       "      <td>44</td>\n",
       "      <td>12</td>\n",
       "      <td>174</td>\n",
       "      <td>1.77</td>\n",
       "      <td>27.27</td>\n",
       "      <td>3.95</td>\n",
       "      <td>ADWORD AD</td>\n",
       "      <td>5562</td>\n",
       "      <td>63</td>\n",
       "      <td>4</td>\n",
       "      <td>162</td>\n",
       "      <td>1.13</td>\n",
       "      <td>6.35</td>\n",
       "      <td>2.57</td>\n",
       "    </tr>\n",
       "  </tbody>\n",
       "</table>\n",
       "</div>"
      ],
      "text/plain": [
       "  date_of_campaign facebook_ad_campaign  facebook_ad_views  \\\n",
       "0       2021-12-22          FACEBOOK AD               3172   \n",
       "1       2021-12-24          FACEBOOK AD               3211   \n",
       "2       2021-12-25          FACEBOOK AD               1936   \n",
       "3       2021-12-25          FACEBOOK AD               1194   \n",
       "4       2021-12-26          FACEBOOK AD               2479   \n",
       "\n",
       "   facebook_ad_clicks  facebook_ad_conversions  facebook_cost_per_ad  \\\n",
       "0                  62                       14                   141   \n",
       "1                  38                        9                   186   \n",
       "2                  53                       15                    66   \n",
       "3                  45                        9                    71   \n",
       "4                  44                       12                   174   \n",
       "\n",
       "   facebook_ctr  facebook_conversion_rate  facebook_cost_per_click  \\\n",
       "0          1.95                     22.58                     2.27   \n",
       "1          1.18                     23.68                     4.89   \n",
       "2          2.74                     28.30                     1.25   \n",
       "3          3.77                     20.00                     1.58   \n",
       "4          1.77                     27.27                     3.95   \n",
       "\n",
       "  adword_ad_campaign  adword_ad_views  adword_ad_clicks  \\\n",
       "0          ADWORD AD             5754                64   \n",
       "1          ADWORD AD             4954                73   \n",
       "2          ADWORD AD             4702                38   \n",
       "3          ADWORD AD             3718                58   \n",
       "4          ADWORD AD             5562                63   \n",
       "\n",
       "   adword_ad_conversions  adword_cost_per_ad  adword_ctr  \\\n",
       "0                      9                 177        1.11   \n",
       "1                      6                  54        1.47   \n",
       "2                      9                 187        0.81   \n",
       "3                      3                 161        1.56   \n",
       "4                      4                 162        1.13   \n",
       "\n",
       "   adword_conversion_rate  adword_cost_per_click  \n",
       "0                   14.06                   2.77  \n",
       "1                    8.22                   0.74  \n",
       "2                   23.68                   4.92  \n",
       "3                    5.17                   2.78  \n",
       "4                    6.35                   2.57  "
      ]
     },
     "execution_count": 3,
     "metadata": {},
     "output_type": "execute_result"
    }
   ],
   "source": [
    "df.head()"
   ]
  },
  {
   "cell_type": "code",
   "execution_count": 4,
   "id": "155579c2",
   "metadata": {},
   "outputs": [
    {
     "name": "stdout",
     "output_type": "stream",
     "text": [
      "<class 'pandas.core.frame.DataFrame'>\n",
      "RangeIndex: 1000 entries, 0 to 999\n",
      "Data columns (total 17 columns):\n",
      " #   Column                    Non-Null Count  Dtype  \n",
      "---  ------                    --------------  -----  \n",
      " 0   date_of_campaign          1000 non-null   object \n",
      " 1   facebook_ad_campaign      1000 non-null   object \n",
      " 2   facebook_ad_views         1000 non-null   int64  \n",
      " 3   facebook_ad_clicks        1000 non-null   int64  \n",
      " 4   facebook_ad_conversions   1000 non-null   int64  \n",
      " 5   facebook_cost_per_ad      1000 non-null   int64  \n",
      " 6   facebook_ctr              1000 non-null   float64\n",
      " 7   facebook_conversion_rate  1000 non-null   float64\n",
      " 8   facebook_cost_per_click   1000 non-null   float64\n",
      " 9   adword_ad_campaign        1000 non-null   object \n",
      " 10  adword_ad_views           1000 non-null   int64  \n",
      " 11  adword_ad_clicks          1000 non-null   int64  \n",
      " 12  adword_ad_conversions     1000 non-null   int64  \n",
      " 13  adword_cost_per_ad        1000 non-null   int64  \n",
      " 14  adword_ctr                1000 non-null   float64\n",
      " 15  adword_conversion_rate    1000 non-null   float64\n",
      " 16  adword_cost_per_click     1000 non-null   float64\n",
      "dtypes: float64(6), int64(8), object(3)\n",
      "memory usage: 132.9+ KB\n"
     ]
    }
   ],
   "source": [
    "df.info()"
   ]
  },
  {
   "cell_type": "code",
   "execution_count": 5,
   "id": "92148f4a",
   "metadata": {},
   "outputs": [
    {
     "data": {
      "text/plain": [
       "(1000, 17)"
      ]
     },
     "execution_count": 5,
     "metadata": {},
     "output_type": "execute_result"
    }
   ],
   "source": [
    "df.shape"
   ]
  },
  {
   "cell_type": "code",
   "execution_count": 7,
   "id": "929f0fe3",
   "metadata": {},
   "outputs": [
    {
     "name": "stdout",
     "output_type": "stream",
     "text": [
      "date_of_campaign             object\n",
      "facebook_ad_campaign         object\n",
      "facebook_ad_views             int64\n",
      "facebook_ad_clicks            int64\n",
      "facebook_ad_conversions       int64\n",
      "facebook_cost_per_ad          int64\n",
      "facebook_ctr                float64\n",
      "facebook_conversion_rate    float64\n",
      "facebook_cost_per_click     float64\n",
      "adword_ad_campaign           object\n",
      "adword_ad_views               int64\n",
      "adword_ad_clicks              int64\n",
      "adword_ad_conversions         int64\n",
      "adword_cost_per_ad            int64\n",
      "adword_ctr                  float64\n",
      "adword_conversion_rate      float64\n",
      "adword_cost_per_click       float64\n",
      "dtype: object\n"
     ]
    }
   ],
   "source": [
    "print(df.dtypes)  "
   ]
  },
  {
   "cell_type": "code",
   "execution_count": 8,
   "id": "1f40901b",
   "metadata": {},
   "outputs": [],
   "source": [
    "df['date_of_campaign'] = pd.to_datetime(df['date_of_campaign'])"
   ]
  },
  {
   "cell_type": "code",
   "execution_count": 9,
   "id": "2a4c4416",
   "metadata": {},
   "outputs": [
    {
     "data": {
      "application/vnd.microsoft.datawrangler.viewer.v0+json": {
       "columns": [
        {
         "name": "index",
         "rawType": "object",
         "type": "string"
        },
        {
         "name": "date_of_campaign",
         "rawType": "object",
         "type": "unknown"
        },
        {
         "name": "facebook_ad_views",
         "rawType": "float64",
         "type": "float"
        },
        {
         "name": "facebook_ad_clicks",
         "rawType": "float64",
         "type": "float"
        },
        {
         "name": "facebook_ad_conversions",
         "rawType": "float64",
         "type": "float"
        },
        {
         "name": "facebook_cost_per_ad",
         "rawType": "float64",
         "type": "float"
        },
        {
         "name": "facebook_ctr",
         "rawType": "float64",
         "type": "float"
        },
        {
         "name": "facebook_conversion_rate",
         "rawType": "float64",
         "type": "float"
        },
        {
         "name": "facebook_cost_per_click",
         "rawType": "float64",
         "type": "float"
        },
        {
         "name": "adword_ad_views",
         "rawType": "float64",
         "type": "float"
        },
        {
         "name": "adword_ad_clicks",
         "rawType": "float64",
         "type": "float"
        },
        {
         "name": "adword_ad_conversions",
         "rawType": "float64",
         "type": "float"
        },
        {
         "name": "adword_cost_per_ad",
         "rawType": "float64",
         "type": "float"
        },
        {
         "name": "adword_ctr",
         "rawType": "float64",
         "type": "float"
        },
        {
         "name": "adword_conversion_rate",
         "rawType": "float64",
         "type": "float"
        },
        {
         "name": "adword_cost_per_click",
         "rawType": "float64",
         "type": "float"
        }
       ],
       "ref": "d1490837-a095-4423-b0c0-712e837de750",
       "rows": [
        [
         "count",
         "1000",
         "1000.0",
         "1000.0",
         "1000.0",
         "1000.0",
         "1000.0",
         "1000.0",
         "1000.0",
         "1000.0",
         "1000.0",
         "1000.0",
         "1000.0",
         "1000.0",
         "1000.0",
         "1000.0"
        ],
        [
         "mean",
         "2023-07-04 07:13:26.399999744",
         "2152.031",
         "44.196",
         "11.975",
         "156.61",
         "2.2831599999999996",
         "32.69608",
         "4.3105",
         "4771.438",
         "60.128",
         "5.933",
         "124.741",
         "1.28095",
         "10.80751",
         "2.26554"
        ],
        [
         "min",
         "2021-12-22 00:00:00",
         "1050.0",
         "15.0",
         "5.0",
         "60.0",
         "0.49",
         "6.85",
         "0.96",
         "3715.0",
         "31.0",
         "3.0",
         "50.0",
         "0.54",
         "3.37",
         "0.58"
        ],
        [
         "25%",
         "2022-10-07 18:00:00",
         "1600.25",
         "30.0",
         "8.0",
         "110.0",
         "1.3675000000000002",
         "18.0525",
         "2.3375",
         "4258.25",
         "45.0",
         "4.0",
         "86.0",
         "0.94",
         "6.970000000000001",
         "1.47"
        ],
        [
         "50%",
         "2023-07-20 12:00:00",
         "2123.5",
         "44.5",
         "12.0",
         "156.0",
         "2.07",
         "27.12",
         "3.6",
         "4808.5",
         "60.0",
         "6.0",
         "124.0",
         "1.26",
         "9.72",
         "2.03"
        ],
        [
         "75%",
         "2024-03-24 00:00:00",
         "2706.25",
         "58.0",
         "16.0",
         "205.0",
         "2.9225",
         "41.879999999999995",
         "5.61",
         "5300.75",
         "75.0",
         "8.0",
         "163.0",
         "1.57",
         "13.485000000000001",
         "2.8024999999999998"
        ],
        [
         "max",
         "2024-12-20 00:00:00",
         "3320.0",
         "73.0",
         "19.0",
         "250.0",
         "6.86",
         "118.75",
         "16.53",
         "5754.0",
         "89.0",
         "9.0",
         "200.0",
         "2.37",
         "29.03",
         "6.19"
        ],
        [
         "std",
         null,
         "661.9821662457588",
         "16.833328397703912",
         "4.298470873677272",
         "54.91890372163292",
         "1.206700103397501",
         "20.570795790952598",
         "2.7515815726870883",
         "598.6476837048693",
         "17.047822272778546",
         "2.0116057162271033",
         "43.8090533126676",
         "0.4024924815418267",
         "5.205133438636709",
         "1.1018459842341728"
        ]
       ],
       "shape": {
        "columns": 15,
        "rows": 8
       }
      },
      "text/html": [
       "<div>\n",
       "<style scoped>\n",
       "    .dataframe tbody tr th:only-of-type {\n",
       "        vertical-align: middle;\n",
       "    }\n",
       "\n",
       "    .dataframe tbody tr th {\n",
       "        vertical-align: top;\n",
       "    }\n",
       "\n",
       "    .dataframe thead th {\n",
       "        text-align: right;\n",
       "    }\n",
       "</style>\n",
       "<table border=\"1\" class=\"dataframe\">\n",
       "  <thead>\n",
       "    <tr style=\"text-align: right;\">\n",
       "      <th></th>\n",
       "      <th>date_of_campaign</th>\n",
       "      <th>facebook_ad_views</th>\n",
       "      <th>facebook_ad_clicks</th>\n",
       "      <th>facebook_ad_conversions</th>\n",
       "      <th>facebook_cost_per_ad</th>\n",
       "      <th>facebook_ctr</th>\n",
       "      <th>facebook_conversion_rate</th>\n",
       "      <th>facebook_cost_per_click</th>\n",
       "      <th>adword_ad_views</th>\n",
       "      <th>adword_ad_clicks</th>\n",
       "      <th>adword_ad_conversions</th>\n",
       "      <th>adword_cost_per_ad</th>\n",
       "      <th>adword_ctr</th>\n",
       "      <th>adword_conversion_rate</th>\n",
       "      <th>adword_cost_per_click</th>\n",
       "    </tr>\n",
       "  </thead>\n",
       "  <tbody>\n",
       "    <tr>\n",
       "      <th>count</th>\n",
       "      <td>1000</td>\n",
       "      <td>1000.000000</td>\n",
       "      <td>1000.000000</td>\n",
       "      <td>1000.000000</td>\n",
       "      <td>1000.000000</td>\n",
       "      <td>1000.00000</td>\n",
       "      <td>1000.000000</td>\n",
       "      <td>1000.000000</td>\n",
       "      <td>1000.000000</td>\n",
       "      <td>1000.000000</td>\n",
       "      <td>1000.000000</td>\n",
       "      <td>1000.000000</td>\n",
       "      <td>1000.000000</td>\n",
       "      <td>1000.000000</td>\n",
       "      <td>1000.000000</td>\n",
       "    </tr>\n",
       "    <tr>\n",
       "      <th>mean</th>\n",
       "      <td>2023-07-04 07:13:26.399999744</td>\n",
       "      <td>2152.031000</td>\n",
       "      <td>44.196000</td>\n",
       "      <td>11.975000</td>\n",
       "      <td>156.610000</td>\n",
       "      <td>2.28316</td>\n",
       "      <td>32.696080</td>\n",
       "      <td>4.310500</td>\n",
       "      <td>4771.438000</td>\n",
       "      <td>60.128000</td>\n",
       "      <td>5.933000</td>\n",
       "      <td>124.741000</td>\n",
       "      <td>1.280950</td>\n",
       "      <td>10.807510</td>\n",
       "      <td>2.265540</td>\n",
       "    </tr>\n",
       "    <tr>\n",
       "      <th>min</th>\n",
       "      <td>2021-12-22 00:00:00</td>\n",
       "      <td>1050.000000</td>\n",
       "      <td>15.000000</td>\n",
       "      <td>5.000000</td>\n",
       "      <td>60.000000</td>\n",
       "      <td>0.49000</td>\n",
       "      <td>6.850000</td>\n",
       "      <td>0.960000</td>\n",
       "      <td>3715.000000</td>\n",
       "      <td>31.000000</td>\n",
       "      <td>3.000000</td>\n",
       "      <td>50.000000</td>\n",
       "      <td>0.540000</td>\n",
       "      <td>3.370000</td>\n",
       "      <td>0.580000</td>\n",
       "    </tr>\n",
       "    <tr>\n",
       "      <th>25%</th>\n",
       "      <td>2022-10-07 18:00:00</td>\n",
       "      <td>1600.250000</td>\n",
       "      <td>30.000000</td>\n",
       "      <td>8.000000</td>\n",
       "      <td>110.000000</td>\n",
       "      <td>1.36750</td>\n",
       "      <td>18.052500</td>\n",
       "      <td>2.337500</td>\n",
       "      <td>4258.250000</td>\n",
       "      <td>45.000000</td>\n",
       "      <td>4.000000</td>\n",
       "      <td>86.000000</td>\n",
       "      <td>0.940000</td>\n",
       "      <td>6.970000</td>\n",
       "      <td>1.470000</td>\n",
       "    </tr>\n",
       "    <tr>\n",
       "      <th>50%</th>\n",
       "      <td>2023-07-20 12:00:00</td>\n",
       "      <td>2123.500000</td>\n",
       "      <td>44.500000</td>\n",
       "      <td>12.000000</td>\n",
       "      <td>156.000000</td>\n",
       "      <td>2.07000</td>\n",
       "      <td>27.120000</td>\n",
       "      <td>3.600000</td>\n",
       "      <td>4808.500000</td>\n",
       "      <td>60.000000</td>\n",
       "      <td>6.000000</td>\n",
       "      <td>124.000000</td>\n",
       "      <td>1.260000</td>\n",
       "      <td>9.720000</td>\n",
       "      <td>2.030000</td>\n",
       "    </tr>\n",
       "    <tr>\n",
       "      <th>75%</th>\n",
       "      <td>2024-03-24 00:00:00</td>\n",
       "      <td>2706.250000</td>\n",
       "      <td>58.000000</td>\n",
       "      <td>16.000000</td>\n",
       "      <td>205.000000</td>\n",
       "      <td>2.92250</td>\n",
       "      <td>41.880000</td>\n",
       "      <td>5.610000</td>\n",
       "      <td>5300.750000</td>\n",
       "      <td>75.000000</td>\n",
       "      <td>8.000000</td>\n",
       "      <td>163.000000</td>\n",
       "      <td>1.570000</td>\n",
       "      <td>13.485000</td>\n",
       "      <td>2.802500</td>\n",
       "    </tr>\n",
       "    <tr>\n",
       "      <th>max</th>\n",
       "      <td>2024-12-20 00:00:00</td>\n",
       "      <td>3320.000000</td>\n",
       "      <td>73.000000</td>\n",
       "      <td>19.000000</td>\n",
       "      <td>250.000000</td>\n",
       "      <td>6.86000</td>\n",
       "      <td>118.750000</td>\n",
       "      <td>16.530000</td>\n",
       "      <td>5754.000000</td>\n",
       "      <td>89.000000</td>\n",
       "      <td>9.000000</td>\n",
       "      <td>200.000000</td>\n",
       "      <td>2.370000</td>\n",
       "      <td>29.030000</td>\n",
       "      <td>6.190000</td>\n",
       "    </tr>\n",
       "    <tr>\n",
       "      <th>std</th>\n",
       "      <td>NaN</td>\n",
       "      <td>661.982166</td>\n",
       "      <td>16.833328</td>\n",
       "      <td>4.298471</td>\n",
       "      <td>54.918904</td>\n",
       "      <td>1.20670</td>\n",
       "      <td>20.570796</td>\n",
       "      <td>2.751582</td>\n",
       "      <td>598.647684</td>\n",
       "      <td>17.047822</td>\n",
       "      <td>2.011606</td>\n",
       "      <td>43.809053</td>\n",
       "      <td>0.402492</td>\n",
       "      <td>5.205133</td>\n",
       "      <td>1.101846</td>\n",
       "    </tr>\n",
       "  </tbody>\n",
       "</table>\n",
       "</div>"
      ],
      "text/plain": [
       "                    date_of_campaign  facebook_ad_views  facebook_ad_clicks  \\\n",
       "count                           1000        1000.000000         1000.000000   \n",
       "mean   2023-07-04 07:13:26.399999744        2152.031000           44.196000   \n",
       "min              2021-12-22 00:00:00        1050.000000           15.000000   \n",
       "25%              2022-10-07 18:00:00        1600.250000           30.000000   \n",
       "50%              2023-07-20 12:00:00        2123.500000           44.500000   \n",
       "75%              2024-03-24 00:00:00        2706.250000           58.000000   \n",
       "max              2024-12-20 00:00:00        3320.000000           73.000000   \n",
       "std                              NaN         661.982166           16.833328   \n",
       "\n",
       "       facebook_ad_conversions  facebook_cost_per_ad  facebook_ctr  \\\n",
       "count              1000.000000           1000.000000    1000.00000   \n",
       "mean                 11.975000            156.610000       2.28316   \n",
       "min                   5.000000             60.000000       0.49000   \n",
       "25%                   8.000000            110.000000       1.36750   \n",
       "50%                  12.000000            156.000000       2.07000   \n",
       "75%                  16.000000            205.000000       2.92250   \n",
       "max                  19.000000            250.000000       6.86000   \n",
       "std                   4.298471             54.918904       1.20670   \n",
       "\n",
       "       facebook_conversion_rate  facebook_cost_per_click  adword_ad_views  \\\n",
       "count               1000.000000              1000.000000      1000.000000   \n",
       "mean                  32.696080                 4.310500      4771.438000   \n",
       "min                    6.850000                 0.960000      3715.000000   \n",
       "25%                   18.052500                 2.337500      4258.250000   \n",
       "50%                   27.120000                 3.600000      4808.500000   \n",
       "75%                   41.880000                 5.610000      5300.750000   \n",
       "max                  118.750000                16.530000      5754.000000   \n",
       "std                   20.570796                 2.751582       598.647684   \n",
       "\n",
       "       adword_ad_clicks  adword_ad_conversions  adword_cost_per_ad  \\\n",
       "count       1000.000000            1000.000000         1000.000000   \n",
       "mean          60.128000               5.933000          124.741000   \n",
       "min           31.000000               3.000000           50.000000   \n",
       "25%           45.000000               4.000000           86.000000   \n",
       "50%           60.000000               6.000000          124.000000   \n",
       "75%           75.000000               8.000000          163.000000   \n",
       "max           89.000000               9.000000          200.000000   \n",
       "std           17.047822               2.011606           43.809053   \n",
       "\n",
       "        adword_ctr  adword_conversion_rate  adword_cost_per_click  \n",
       "count  1000.000000             1000.000000            1000.000000  \n",
       "mean      1.280950               10.807510               2.265540  \n",
       "min       0.540000                3.370000               0.580000  \n",
       "25%       0.940000                6.970000               1.470000  \n",
       "50%       1.260000                9.720000               2.030000  \n",
       "75%       1.570000               13.485000               2.802500  \n",
       "max       2.370000               29.030000               6.190000  \n",
       "std       0.402492                5.205133               1.101846  "
      ]
     },
     "execution_count": 9,
     "metadata": {},
     "output_type": "execute_result"
    }
   ],
   "source": [
    "df.describe()"
   ]
  },
  {
   "cell_type": "code",
   "execution_count": 11,
   "id": "d2b8e06c",
   "metadata": {},
   "outputs": [
    {
     "data": {
      "image/png": "[encoded data removed]",
      "text/plain": [
       "<Figure size 1500x600 with 2 Axes>"
      ]
     },
     "metadata": {},
     "output_type": "display_data"
    },
    {
     "data": {
      "image/png": "[encoded data removed]",
      "text/plain": [
       "<Figure size 1500x600 with 2 Axes>"
      ]
     },
     "metadata": {},
     "output_type": "display_data"
    }
   ],
   "source": [
    "plt.figure(figsize=(15,6))\n",
    "plt.subplot(1,2,1)\n",
    "plt.title('Facebook Ad clicks')\n",
    "sns.histplot(df['facebook_ad_clicks'],bins = 7, edgecolor = 'k',kde = True)\n",
    "plt.subplot(1,2,2)\n",
    "plt.title('Facebook Ad Conversions')\n",
    "sns.histplot(df['facebook_ad_clicks'], bins = 7, edgecolor = 'k', kde = True)\n",
    "plt.show()\n",
    "\n",
    "plt.figure(figsize=(15,6))\n",
    "plt.subplot(1,2,1)\n",
    "plt.title('AdWord Ad clicks')\n",
    "sns.histplot(df['adword_ad_clicks'],bins = 7, edgecolor = 'k',kde = True)\n",
    "plt.subplot(1,2,2)\n",
    "plt.title('AdWord Ad Conversions')\n",
    "sns.histplot(df['adword_ad_conversions'], bins = 7, edgecolor = 'k', kde = True)\n",
    "plt.show()"
   ]
  },
  {
   "cell_type": "code",
   "execution_count": 13,
   "id": "ad1e5cfe",
   "metadata": {},
   "outputs": [],
   "source": [
    "def create_conversion_category(conversion_col):\n",
    "    category = []\n",
    "    for conversion in df[conversion_col]:\n",
    "        if conversion < 6:\n",
    "            category.append('less than 6')\n",
    "        elif 6 <= conversion < 11:\n",
    "            category.append('6-10')\n",
    "        elif 11 <= conversion < 16:\n",
    "            category.append('10-15')\n",
    "        else:\n",
    "            category.append('more than 15')\n",
    "    return category\n",
    "\n",
    "df['facebook_conversion_category'] = create_conversion_category('facebook_ad_conversions')\n",
    "df['adwords_conversion_category'] = create_conversion_category('adword_ad_conversions')\n"
   ]
  },
  {
   "cell_type": "code",
   "execution_count": 14,
   "id": "33f284ec",
   "metadata": {},
   "outputs": [
    {
     "data": {
      "application/vnd.microsoft.datawrangler.viewer.v0+json": {
       "columns": [
        {
         "name": "index",
         "rawType": "int64",
         "type": "integer"
        },
        {
         "name": "facebook_ad_conversions",
         "rawType": "int64",
         "type": "integer"
        },
        {
         "name": "facebook_conversion_category",
         "rawType": "object",
         "type": "string"
        },
        {
         "name": "adword_ad_conversions",
         "rawType": "int64",
         "type": "integer"
        },
        {
         "name": "adwords_conversion_category",
         "rawType": "object",
         "type": "string"
        }
       ],
       "ref": "0211f7ca-32e6-4094-8e1a-506a7a3861f5",
       "rows": [
        [
         "0",
         "14",
         "10-15",
         "9",
         "6-10"
        ],
        [
         "1",
         "9",
         "6-10",
         "6",
         "6-10"
        ],
        [
         "2",
         "15",
         "10-15",
         "9",
         "6-10"
        ],
        [
         "3",
         "9",
         "6-10",
         "3",
         "less than 6"
        ],
        [
         "4",
         "12",
         "10-15",
         "4",
         "less than 6"
        ]
       ],
       "shape": {
        "columns": 4,
        "rows": 5
       }
      },
      "text/html": [
       "<div>\n",
       "<style scoped>\n",
       "    .dataframe tbody tr th:only-of-type {\n",
       "        vertical-align: middle;\n",
       "    }\n",
       "\n",
       "    .dataframe tbody tr th {\n",
       "        vertical-align: top;\n",
       "    }\n",
       "\n",
       "    .dataframe thead th {\n",
       "        text-align: right;\n",
       "    }\n",
       "</style>\n",
       "<table border=\"1\" class=\"dataframe\">\n",
       "  <thead>\n",
       "    <tr style=\"text-align: right;\">\n",
       "      <th></th>\n",
       "      <th>facebook_ad_conversions</th>\n",
       "      <th>facebook_conversion_category</th>\n",
       "      <th>adword_ad_conversions</th>\n",
       "      <th>adwords_conversion_category</th>\n",
       "    </tr>\n",
       "  </thead>\n",
       "  <tbody>\n",
       "    <tr>\n",
       "      <th>0</th>\n",
       "      <td>14</td>\n",
       "      <td>10-15</td>\n",
       "      <td>9</td>\n",
       "      <td>6-10</td>\n",
       "    </tr>\n",
       "    <tr>\n",
       "      <th>1</th>\n",
       "      <td>9</td>\n",
       "      <td>6-10</td>\n",
       "      <td>6</td>\n",
       "      <td>6-10</td>\n",
       "    </tr>\n",
       "    <tr>\n",
       "      <th>2</th>\n",
       "      <td>15</td>\n",
       "      <td>10-15</td>\n",
       "      <td>9</td>\n",
       "      <td>6-10</td>\n",
       "    </tr>\n",
       "    <tr>\n",
       "      <th>3</th>\n",
       "      <td>9</td>\n",
       "      <td>6-10</td>\n",
       "      <td>3</td>\n",
       "      <td>less than 6</td>\n",
       "    </tr>\n",
       "    <tr>\n",
       "      <th>4</th>\n",
       "      <td>12</td>\n",
       "      <td>10-15</td>\n",
       "      <td>4</td>\n",
       "      <td>less than 6</td>\n",
       "    </tr>\n",
       "  </tbody>\n",
       "</table>\n",
       "</div>"
      ],
      "text/plain": [
       "   facebook_ad_conversions facebook_conversion_category  \\\n",
       "0                       14                        10-15   \n",
       "1                        9                         6-10   \n",
       "2                       15                        10-15   \n",
       "3                        9                         6-10   \n",
       "4                       12                        10-15   \n",
       "\n",
       "   adword_ad_conversions adwords_conversion_category  \n",
       "0                      9                        6-10  \n",
       "1                      6                        6-10  \n",
       "2                      9                        6-10  \n",
       "3                      3                 less than 6  \n",
       "4                      4                 less than 6  "
      ]
     },
     "execution_count": 14,
     "metadata": {},
     "output_type": "execute_result"
    }
   ],
   "source": [
    "df[['facebook_ad_conversions','facebook_conversion_category','adword_ad_conversions','adwords_conversion_category']].head()"
   ]
  },
  {
   "cell_type": "code",
   "execution_count": 15,
   "id": "8cccfecb",
   "metadata": {},
   "outputs": [
    {
     "data": {
      "application/vnd.microsoft.datawrangler.viewer.v0+json": {
       "columns": [
        {
         "name": "facebook_conversion_category",
         "rawType": "object",
         "type": "string"
        },
        {
         "name": "count",
         "rawType": "int64",
         "type": "integer"
        }
       ],
       "ref": "ffb36a36-50c8-4eb9-a508-d40646fe971f",
       "rows": [
        [
         "10-15",
         "341"
        ],
        [
         "6-10",
         "337"
        ],
        [
         "more than 15",
         "257"
        ],
        [
         "less than 6",
         "65"
        ]
       ],
       "shape": {
        "columns": 1,
        "rows": 4
       }
      },
      "text/plain": [
       "facebook_conversion_category\n",
       "10-15           341\n",
       "6-10            337\n",
       "more than 15    257\n",
       "less than 6      65\n",
       "Name: count, dtype: int64"
      ]
     },
     "execution_count": 15,
     "metadata": {},
     "output_type": "execute_result"
    }
   ],
   "source": [
    "df['facebook_conversion_category'].value_counts()"
   ]
  },
  {
   "cell_type": "code",
   "execution_count": 18,
   "id": "8351d4c7",
   "metadata": {},
   "outputs": [],
   "source": [
    "facebook = pd.DataFrame(df['facebook_conversion_category'].value_counts()).reset_index().rename(columns = {'facebook_conversion_category':'category'})"
   ]
  },
  {
   "cell_type": "code",
   "execution_count": 19,
   "id": "29fb13a8",
   "metadata": {},
   "outputs": [
    {
     "data": {
      "application/vnd.microsoft.datawrangler.viewer.v0+json": {
       "columns": [
        {
         "name": "index",
         "rawType": "int64",
         "type": "integer"
        },
        {
         "name": "category",
         "rawType": "object",
         "type": "string"
        },
        {
         "name": "count",
         "rawType": "int64",
         "type": "integer"
        }
       ],
       "ref": "70514d3c-f5ab-440e-bab7-255db2ae3543",
       "rows": [
        [
         "0",
         "10-15",
         "341"
        ],
        [
         "1",
         "6-10",
         "337"
        ],
        [
         "2",
         "more than 15",
         "257"
        ],
        [
         "3",
         "less than 6",
         "65"
        ]
       ],
       "shape": {
        "columns": 2,
        "rows": 4
       }
      },
      "text/html": [
       "<div>\n",
       "<style scoped>\n",
       "    .dataframe tbody tr th:only-of-type {\n",
       "        vertical-align: middle;\n",
       "    }\n",
       "\n",
       "    .dataframe tbody tr th {\n",
       "        vertical-align: top;\n",
       "    }\n",
       "\n",
       "    .dataframe thead th {\n",
       "        text-align: right;\n",
       "    }\n",
       "</style>\n",
       "<table border=\"1\" class=\"dataframe\">\n",
       "  <thead>\n",
       "    <tr style=\"text-align: right;\">\n",
       "      <th></th>\n",
       "      <th>category</th>\n",
       "      <th>count</th>\n",
       "    </tr>\n",
       "  </thead>\n",
       "  <tbody>\n",
       "    <tr>\n",
       "      <th>0</th>\n",
       "      <td>10-15</td>\n",
       "      <td>341</td>\n",
       "    </tr>\n",
       "    <tr>\n",
       "      <th>1</th>\n",
       "      <td>6-10</td>\n",
       "      <td>337</td>\n",
       "    </tr>\n",
       "    <tr>\n",
       "      <th>2</th>\n",
       "      <td>more than 15</td>\n",
       "      <td>257</td>\n",
       "    </tr>\n",
       "    <tr>\n",
       "      <th>3</th>\n",
       "      <td>less than 6</td>\n",
       "      <td>65</td>\n",
       "    </tr>\n",
       "  </tbody>\n",
       "</table>\n",
       "</div>"
      ],
      "text/plain": [
       "       category  count\n",
       "0         10-15    341\n",
       "1          6-10    337\n",
       "2  more than 15    257\n",
       "3   less than 6     65"
      ]
     },
     "execution_count": 19,
     "metadata": {},
     "output_type": "execute_result"
    }
   ],
   "source": [
    "facebook"
   ]
  },
  {
   "cell_type": "code",
   "execution_count": 20,
   "id": "2a5fc10a",
   "metadata": {},
   "outputs": [
    {
     "data": {
      "application/vnd.microsoft.datawrangler.viewer.v0+json": {
       "columns": [
        {
         "name": "adwords_conversion_category",
         "rawType": "object",
         "type": "string"
        },
        {
         "name": "count",
         "rawType": "int64",
         "type": "integer"
        }
       ],
       "ref": "be6ac309-9c7a-409b-b553-c4d866cd2276",
       "rows": [
        [
         "6-10",
         "564"
        ],
        [
         "less than 6",
         "436"
        ]
       ],
       "shape": {
        "columns": 1,
        "rows": 2
       }
      },
      "text/plain": [
       "adwords_conversion_category\n",
       "6-10           564\n",
       "less than 6    436\n",
       "Name: count, dtype: int64"
      ]
     },
     "execution_count": 20,
     "metadata": {},
     "output_type": "execute_result"
    }
   ],
   "source": [
    "df['adwords_conversion_category'].value_counts()"
   ]
  },
  {
   "cell_type": "code",
   "execution_count": 21,
   "id": "430d1ea4",
   "metadata": {},
   "outputs": [
    {
     "data": {
      "application/vnd.microsoft.datawrangler.viewer.v0+json": {
       "columns": [
        {
         "name": "index",
         "rawType": "int64",
         "type": "integer"
        },
        {
         "name": "category",
         "rawType": "object",
         "type": "string"
        },
        {
         "name": "count",
         "rawType": "int64",
         "type": "integer"
        }
       ],
       "ref": "978a8177-f126-4072-b78b-8d41d67206cb",
       "rows": [
        [
         "0",
         "6-10",
         "564"
        ],
        [
         "1",
         "less than 6",
         "436"
        ]
       ],
       "shape": {
        "columns": 2,
        "rows": 2
       }
      },
      "text/html": [
       "<div>\n",
       "<style scoped>\n",
       "    .dataframe tbody tr th:only-of-type {\n",
       "        vertical-align: middle;\n",
       "    }\n",
       "\n",
       "    .dataframe tbody tr th {\n",
       "        vertical-align: top;\n",
       "    }\n",
       "\n",
       "    .dataframe thead th {\n",
       "        text-align: right;\n",
       "    }\n",
       "</style>\n",
       "<table border=\"1\" class=\"dataframe\">\n",
       "  <thead>\n",
       "    <tr style=\"text-align: right;\">\n",
       "      <th></th>\n",
       "      <th>category</th>\n",
       "      <th>count</th>\n",
       "    </tr>\n",
       "  </thead>\n",
       "  <tbody>\n",
       "    <tr>\n",
       "      <th>0</th>\n",
       "      <td>6-10</td>\n",
       "      <td>564</td>\n",
       "    </tr>\n",
       "    <tr>\n",
       "      <th>1</th>\n",
       "      <td>less than 6</td>\n",
       "      <td>436</td>\n",
       "    </tr>\n",
       "  </tbody>\n",
       "</table>\n",
       "</div>"
      ],
      "text/plain": [
       "      category  count\n",
       "0         6-10    564\n",
       "1  less than 6    436"
      ]
     },
     "execution_count": 21,
     "metadata": {},
     "output_type": "execute_result"
    }
   ],
   "source": [
    "adwords = pd.DataFrame(df['adwords_conversion_category'].value_counts()).reset_index().rename(columns = {'adwords_conversion_category':'category'})\n",
    "adwords"
   ]
  },
  {
   "cell_type": "code",
   "execution_count": 22,
   "id": "d07eaf16",
   "metadata": {},
   "outputs": [
    {
     "data": {
      "application/vnd.microsoft.datawrangler.viewer.v0+json": {
       "columns": [
        {
         "name": "index",
         "rawType": "int64",
         "type": "integer"
        },
        {
         "name": "category",
         "rawType": "object",
         "type": "string"
        },
        {
         "name": "count_x",
         "rawType": "int64",
         "type": "integer"
        },
        {
         "name": "count_y",
         "rawType": "float64",
         "type": "float"
        }
       ],
       "ref": "348de858-c375-4fce-9485-d342c4575e54",
       "rows": [
        [
         "0",
         "10-15",
         "341",
         "0.0"
        ],
        [
         "1",
         "6-10",
         "337",
         "564.0"
        ],
        [
         "2",
         "less than 6",
         "65",
         "436.0"
        ],
        [
         "3",
         "more than 15",
         "257",
         "0.0"
        ]
       ],
       "shape": {
        "columns": 3,
        "rows": 4
       }
      },
      "text/html": [
       "<div>\n",
       "<style scoped>\n",
       "    .dataframe tbody tr th:only-of-type {\n",
       "        vertical-align: middle;\n",
       "    }\n",
       "\n",
       "    .dataframe tbody tr th {\n",
       "        vertical-align: top;\n",
       "    }\n",
       "\n",
       "    .dataframe thead th {\n",
       "        text-align: right;\n",
       "    }\n",
       "</style>\n",
       "<table border=\"1\" class=\"dataframe\">\n",
       "  <thead>\n",
       "    <tr style=\"text-align: right;\">\n",
       "      <th></th>\n",
       "      <th>category</th>\n",
       "      <th>count_x</th>\n",
       "      <th>count_y</th>\n",
       "    </tr>\n",
       "  </thead>\n",
       "  <tbody>\n",
       "    <tr>\n",
       "      <th>0</th>\n",
       "      <td>10-15</td>\n",
       "      <td>341</td>\n",
       "      <td>0.0</td>\n",
       "    </tr>\n",
       "    <tr>\n",
       "      <th>1</th>\n",
       "      <td>6-10</td>\n",
       "      <td>337</td>\n",
       "      <td>564.0</td>\n",
       "    </tr>\n",
       "    <tr>\n",
       "      <th>2</th>\n",
       "      <td>less than 6</td>\n",
       "      <td>65</td>\n",
       "      <td>436.0</td>\n",
       "    </tr>\n",
       "    <tr>\n",
       "      <th>3</th>\n",
       "      <td>more than 15</td>\n",
       "      <td>257</td>\n",
       "      <td>0.0</td>\n",
       "    </tr>\n",
       "  </tbody>\n",
       "</table>\n",
       "</div>"
      ],
      "text/plain": [
       "       category  count_x  count_y\n",
       "0         10-15      341      0.0\n",
       "1          6-10      337    564.0\n",
       "2   less than 6       65    436.0\n",
       "3  more than 15      257      0.0"
      ]
     },
     "execution_count": 22,
     "metadata": {},
     "output_type": "execute_result"
    }
   ],
   "source": [
    "category_df = pd.merge(facebook,adwords,on = 'category',how = 'outer').fillna(0)\n",
    "category_df\n"
   ]
  },
  {
   "cell_type": "code",
   "execution_count": 23,
   "id": "08c18d95",
   "metadata": {},
   "outputs": [
    {
     "data": {
      "application/vnd.microsoft.datawrangler.viewer.v0+json": {
       "columns": [
        {
         "name": "index",
         "rawType": "int64",
         "type": "integer"
        },
        {
         "name": "category",
         "rawType": "object",
         "type": "string"
        },
        {
         "name": "count_x",
         "rawType": "int64",
         "type": "integer"
        },
        {
         "name": "count_y",
         "rawType": "float64",
         "type": "float"
        }
       ],
       "ref": "561f59fe-559c-4213-a37b-4461da4d3e02",
       "rows": [
        [
         "3",
         "more than 15",
         "257",
         "0.0"
        ],
        [
         "1",
         "6-10",
         "337",
         "564.0"
        ],
        [
         "0",
         "10-15",
         "341",
         "0.0"
        ],
        [
         "2",
         "less than 6",
         "65",
         "436.0"
        ]
       ],
       "shape": {
        "columns": 3,
        "rows": 4
       }
      },
      "text/html": [
       "<div>\n",
       "<style scoped>\n",
       "    .dataframe tbody tr th:only-of-type {\n",
       "        vertical-align: middle;\n",
       "    }\n",
       "\n",
       "    .dataframe tbody tr th {\n",
       "        vertical-align: top;\n",
       "    }\n",
       "\n",
       "    .dataframe thead th {\n",
       "        text-align: right;\n",
       "    }\n",
       "</style>\n",
       "<table border=\"1\" class=\"dataframe\">\n",
       "  <thead>\n",
       "    <tr style=\"text-align: right;\">\n",
       "      <th></th>\n",
       "      <th>category</th>\n",
       "      <th>count_x</th>\n",
       "      <th>count_y</th>\n",
       "    </tr>\n",
       "  </thead>\n",
       "  <tbody>\n",
       "    <tr>\n",
       "      <th>3</th>\n",
       "      <td>more than 15</td>\n",
       "      <td>257</td>\n",
       "      <td>0.0</td>\n",
       "    </tr>\n",
       "    <tr>\n",
       "      <th>1</th>\n",
       "      <td>6-10</td>\n",
       "      <td>337</td>\n",
       "      <td>564.0</td>\n",
       "    </tr>\n",
       "    <tr>\n",
       "      <th>0</th>\n",
       "      <td>10-15</td>\n",
       "      <td>341</td>\n",
       "      <td>0.0</td>\n",
       "    </tr>\n",
       "    <tr>\n",
       "      <th>2</th>\n",
       "      <td>less than 6</td>\n",
       "      <td>65</td>\n",
       "      <td>436.0</td>\n",
       "    </tr>\n",
       "  </tbody>\n",
       "</table>\n",
       "</div>"
      ],
      "text/plain": [
       "       category  count_x  count_y\n",
       "3  more than 15      257      0.0\n",
       "1          6-10      337    564.0\n",
       "0         10-15      341      0.0\n",
       "2   less than 6       65    436.0"
      ]
     },
     "execution_count": 23,
     "metadata": {},
     "output_type": "execute_result"
    }
   ],
   "source": [
    "category_df = category_df.iloc[[3,1,0,2]]\n",
    "category_df"
   ]
  },
  {
   "cell_type": "code",
   "execution_count": 25,
   "id": "94f28488",
   "metadata": {},
   "outputs": [
    {
     "data": {
      "image/png": "[encoded data removed]",
      "text/plain": [
       "<Figure size 1500x600 with 1 Axes>"
      ]
     },
     "metadata": {},
     "output_type": "display_data"
    }
   ],
   "source": [
    "X_axis = np.arange(len(category_df))\n",
    "plt.figure(figsize=(15,6))\n",
    "plt.bar(X_axis - 0.2, category_df['count_x'],0.4, label = 'Facebook', color = '#03989E',linewidth = 1, edgecolor = 'k')\n",
    "plt.bar(X_axis + 0.2, category_df['count_y'],0.4, label = 'AdWords', color = '#A63272',linewidth = 1, edgecolor = 'k')\n",
    "\n",
    "plt.xticks(X_axis,category_df['category'])\n",
    "plt.xlabel('Conversion Category')\n",
    "plt.ylabel('Number of days')\n",
    "plt.title('Frequency of daily conversions by conversion categories', fontsize = 15)\n",
    "plt.legend(fontsize = 15)\n",
    "plt.show()\n"
   ]
  },
  {
   "cell_type": "code",
   "execution_count": null,
   "id": "78264f1e",
   "metadata": {},
   "outputs": [],
   "source": []
  }
 ],
 "metadata": {
  "kernelspec": {
   "display_name": "nlp",
   "language": "python",
   "name": "python3"
  },
  "language_info": {
   "codemirror_mode": {
    "name": "ipython",
    "version": 3
   },
   "file_extension": ".py",
   "mimetype": "text/x-python",
   "name": "python",
   "nbconvert_exporter": "python",
   "pygments_lexer": "ipython3",
   "version": "3.10.11"
  }
 },
 "nbformat": 4,
 "nbformat_minor": 5
}
